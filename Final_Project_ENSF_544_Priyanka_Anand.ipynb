{
  "nbformat": 4,
  "nbformat_minor": 0,
  "metadata": {
    "colab": {
      "provenance": []
    },
    "kernelspec": {
      "name": "python3",
      "display_name": "Python 3"
    },
    "language_info": {
      "name": "python"
    }
  },
  "cells": [
    {
      "cell_type": "code",
      "source": [
        "import pandas as pd\n",
        "from sklearn.ensemble import RandomForestClassifier\n",
        "from sklearn.svm import SVC\n",
        "from sklearn.metrics import accuracy_score, f1_score\n",
        "from sklearn.preprocessing import StandardScaler\n",
        "import joblib\n",
        "import numpy as np\n",
        "from keras.datasets import mnist\n",
        "from keras.layers import Dense, Flatten\n",
        "from keras.layers import Conv2D\n",
        "from keras.models import Sequential\n",
        "from keras.utils import to_categorical"
      ],
      "metadata": {
        "id": "RMhnjOe0LbdN"
      },
      "execution_count": null,
      "outputs": []
    },
    {
      "cell_type": "code",
      "source": [
        "# Note:\n",
        "# Machine learning models such as SVC and RF use\n",
        "# input as a 2D arrow with samples and flattened features\n",
        "# which is why we import a different dataset for this compared to\n",
        "# neural network that you will see later on in the code.\n",
        "\n",
        "# They are the same dataset just different formats that are applicable to the model"
      ],
      "metadata": {
        "id": "2Q9Y_NYLGIsA"
      },
      "execution_count": null,
      "outputs": []
    },
    {
      "cell_type": "code",
      "source": [
        "# Load in data\n",
        "# Download at: https://www.kaggle.com/datasets/oddrationale/mnist-in-csv\n",
        "train = pd.read_csv(\"/content/mnist_train.csv\")\n",
        "test = pd.read_csv(\"/content/mnist_test.csv\")\n",
        "\n",
        "X_train = train.drop('label', axis=1)\n",
        "y_train = train['label']\n",
        "X_test = test.drop('label', axis=1)\n",
        "y_test = test['label']"
      ],
      "metadata": {
        "id": "sAMmi8qH6Pzv"
      },
      "execution_count": null,
      "outputs": []
    },
    {
      "cell_type": "code",
      "source": [
        "# Print the shape of X and y\n",
        "print(\"Shape of X:\", train.shape)\n",
        "print(\"Shape of y:\", test.shape)"
      ],
      "metadata": {
        "colab": {
          "base_uri": "https://localhost:8080/"
        },
        "id": "JyHuRC5-8u1c",
        "outputId": "dfb7befa-286c-426d-882d-ebfb2a0ea2a6"
      },
      "execution_count": null,
      "outputs": [
        {
          "output_type": "stream",
          "name": "stdout",
          "text": [
            "Shape of X: (60000, 785)\n",
            "Shape of y: (10000, 785)\n"
          ]
        }
      ]
    },
    {
      "cell_type": "code",
      "source": [
        "# Check if there are any missing values\n",
        "\n",
        "train.isnull().sum().sort_values(ascending=False)\n",
        "\n",
        "# Don't need to do anything because they are just pixel values"
      ],
      "metadata": {
        "colab": {
          "base_uri": "https://localhost:8080/"
        },
        "id": "bVDTPseQ86HC",
        "outputId": "157ddcb5-05c5-4658-ca62-f46cb2cf88dc"
      },
      "execution_count": null,
      "outputs": [
        {
          "output_type": "execute_result",
          "data": {
            "text/plain": [
              "label    0\n",
              "19x12    0\n",
              "19x14    0\n",
              "19x15    0\n",
              "19x16    0\n",
              "        ..\n",
              "10x12    0\n",
              "10x13    0\n",
              "10x14    0\n",
              "10x15    0\n",
              "28x28    0\n",
              "Length: 785, dtype: int64"
            ]
          },
          "metadata": {},
          "execution_count": 32
        }
      ]
    },
    {
      "cell_type": "code",
      "source": [
        "# Preprocess Data\n",
        "X_train = (np.asarray(X_train)/255)\n",
        "X_test = (np.asarray(X_test)/255)\n",
        "# values are 0-255 for pixels so normalizing them to be between 0-1 can speed up training\n",
        "# & accuracy because of less complexity"
      ],
      "metadata": {
        "id": "u_ApVw_g8GJ3"
      },
      "execution_count": null,
      "outputs": []
    },
    {
      "cell_type": "code",
      "execution_count": null,
      "metadata": {
        "id": "OErvXYxUJyGj"
      },
      "outputs": [],
      "source": [
        "# Define and train random forest model\n",
        "random_forest = RandomForestClassifier(n_estimators=100, random_state=0)\n",
        "\n",
        "random_forest.fit(X_train, y_train)\n",
        "random_forest_predictions = random_forest.predict(X_test)\n",
        "random_forest_accuracy = accuracy_score(y_test, random_forest_predictions)\n",
        "random_forest_f1 = f1_score(y_test, random_forest_predictions, average='macro')"
      ]
    },
    {
      "cell_type": "code",
      "source": [
        "# Define and train SVM model\n",
        "svc = SVC(random_state=0, probability=True)\n",
        "\n",
        "# NOTE: This model will take around 20 minutes to train\n",
        "svc.fit(X_train, y_train)\n",
        "svc_predictions = svc.predict(X_test)\n",
        "svc_accuracy = accuracy_score(y_test, svc_predictions)\n",
        "svc_f1 = f1_score(y_test, svc_predictions, average='macro')"
      ],
      "metadata": {
        "id": "YD-NlXRH8YyQ"
      },
      "execution_count": null,
      "outputs": []
    },
    {
      "cell_type": "code",
      "source": [
        "# Analyze Results\n",
        "results_df = pd.DataFrame({\n",
        "    'Model': ['Random Forest', 'SVC'],\n",
        "    'Accuracy': [random_forest_accuracy, svc_accuracy],\n",
        "    'F1 Score': [random_forest_f1, svc_f1]\n",
        "})\n",
        "\n",
        "print(results_df)"
      ],
      "metadata": {
        "colab": {
          "base_uri": "https://localhost:8080/"
        },
        "id": "qaAgtbRp8jgz",
        "outputId": "bceb03c0-26cf-416c-b5e9-2e41b42cc68f"
      },
      "execution_count": null,
      "outputs": [
        {
          "output_type": "stream",
          "name": "stdout",
          "text": [
            "           Model  Accuracy  F1 Score\n",
            "0  Random Forest    0.9705  0.970235\n",
            "1            SVC    0.9792  0.979130\n"
          ]
        }
      ]
    },
    {
      "cell_type": "code",
      "source": [
        "# Save models to be used in the backend code for predictions\n",
        "filename_rf= \"joblib_rf.sav\"\n",
        "joblib.dump(random_forest, filename_rf)\n",
        "\n",
        "filename_svc = \"joblib_svc.sav\"\n",
        "joblib.dump(svc, filename_svc)"
      ],
      "metadata": {
        "colab": {
          "base_uri": "https://localhost:8080/"
        },
        "id": "j8SvUGuW8dKf",
        "outputId": "543b3192-f86c-4c59-9144-961ee9b6e694"
      },
      "execution_count": null,
      "outputs": [
        {
          "output_type": "execute_result",
          "data": {
            "text/plain": [
              "['joblib_svc.sav']"
            ]
          },
          "metadata": {},
          "execution_count": 37
        }
      ]
    },
    {
      "cell_type": "code",
      "source": [
        "# load in data as a numpy array 3D array suitable for neural networks\n",
        "(X_train, y_train), (X_test, y_test) = mnist.load_data()\n",
        "\n",
        "print(\"Shape of data before reshape: \\n\")\n",
        "print(\"Shape of X train:\", X_train.shape)\n",
        "print(\"Shape of y train:\", y_train.shape)\n",
        "print(\"Shape of X test:\", X_test.shape)\n",
        "print(\"Shape of y test:\", y_test.shape)\n",
        "\n",
        "# Preprocess data to work with input\n",
        "\n",
        "# Convert to greyscale for compatability with neural network input\n",
        "X_train = np.asarray(X_train).reshape(60000, 28, 28, 1)\n",
        "X_test = np.asarray(X_test).reshape(10000, 28, 28, 1)\n",
        "\n",
        "# Additional preprocessing\n",
        "X_train = (np.asarray(X_train)/255)\n",
        "X_test = (np.asarray(X_test)/255)\n",
        "# values are 0-255 for pixels so normalizing them to be between 0-1 can speed up training\n",
        "# & accuracy because of less complexity\n",
        "\n",
        "print(\"\\nShape of data after reshape: \\n\")\n",
        "print(\"Shape of X train:\", X_train.shape)\n",
        "print(\"Shape of X test:\", X_test.shape)\n",
        "\n",
        "y_train = to_categorical(y_train)\n",
        "y_test = to_categorical(y_test)"
      ],
      "metadata": {
        "colab": {
          "base_uri": "https://localhost:8080/"
        },
        "id": "FUmInZJI-xoD",
        "outputId": "46fc1999-0b79-4476-a51d-7033e02132c9"
      },
      "execution_count": null,
      "outputs": [
        {
          "output_type": "stream",
          "name": "stdout",
          "text": [
            "Shape of data before reshape: \n",
            "\n",
            "Shape of X train: (60000, 28, 28)\n",
            "Shape of y train: (60000,)\n",
            "Shape of X test: (10000, 28, 28)\n",
            "Shape of y test: (10000,)\n",
            "\n",
            "Shape of data after reshape: \n",
            "\n",
            "Shape of X train: (60000, 28, 28, 1)\n",
            "Shape of X test: (10000, 28, 28, 1)\n"
          ]
        }
      ]
    },
    {
      "cell_type": "code",
      "source": [
        "# NOTE: This model will take around 15 minutes to train\n",
        "# Declare the model\n",
        "model = Sequential()\n",
        "\n",
        "# Declare the layers with specified names\n",
        "layer_1 = Conv2D(32, kernel_size=3, activation=\"relu\", input_shape=(28, 28, 1), name='conv0')\n",
        "layer_2 = Conv2D(32, kernel_size=3, activation=\"relu\", name='conv1')\n",
        "layer_3 = Conv2D(64, kernel_size=3, activation=\"relu\", name='conv2')\n",
        "layer_4 = Conv2D(64, kernel_size=3, activation=\"relu\", name='conv3')\n",
        "layer_5 = Flatten(name='flatten_1')\n",
        "layer_6 = Dense(254, activation=\"relu\", name='fc1')\n",
        "layer_7 = Dense(10, activation=\"softmax\", name='fco')\n",
        "\n",
        "# Add the layers to the model\n",
        "model.add(layer_1)\n",
        "model.add(layer_2)\n",
        "model.add(layer_3)\n",
        "model.add(layer_4)\n",
        "model.add(layer_5)\n",
        "model.add(layer_6)\n",
        "model.add(layer_7)\n",
        "\n",
        "model.compile(optimizer='adam', loss='categorical_crossentropy', metrics=['accuracy'])\n",
        "\n",
        "history = model.fit(X_train, y_train, validation_data=(X_test, y_test), epochs=3)"
      ],
      "metadata": {
        "id": "p78GV34YLZYT",
        "colab": {
          "base_uri": "https://localhost:8080/"
        },
        "outputId": "de141492-a317-4b17-aeee-9c1a8e5cf75c"
      },
      "execution_count": null,
      "outputs": [
        {
          "output_type": "stream",
          "name": "stdout",
          "text": [
            "Epoch 1/3\n",
            "1875/1875 [==============================] - 554s 295ms/step - loss: 0.0962 - accuracy: 0.9701 - val_loss: 0.0458 - val_accuracy: 0.9857\n",
            "Epoch 2/3\n",
            "1875/1875 [==============================] - 555s 296ms/step - loss: 0.0357 - accuracy: 0.9890 - val_loss: 0.0351 - val_accuracy: 0.9892\n",
            "Epoch 3/3\n",
            "1875/1875 [==============================] - 556s 297ms/step - loss: 0.0230 - accuracy: 0.9930 - val_loss: 0.0359 - val_accuracy: 0.9888\n"
          ]
        }
      ]
    },
    {
      "cell_type": "code",
      "source": [
        "import pandas as pd\n",
        "\n",
        "# Create a DataFrame to store accuracy during training and validation\n",
        "accuracy_df = pd.DataFrame(history.history)\n",
        "# Analyze Results\n",
        "print(accuracy_df)\n",
        "\n",
        "# Save the model\n",
        "model.save('digit_classifier.h5')"
      ],
      "metadata": {
        "colab": {
          "base_uri": "https://localhost:8080/"
        },
        "id": "FOKNmU_wXA8P",
        "outputId": "a08d8c7f-0ff8-4a08-d07e-036c6d69cb05"
      },
      "execution_count": null,
      "outputs": [
        {
          "output_type": "stream",
          "name": "stdout",
          "text": [
            "       loss  accuracy  val_loss  val_accuracy\n",
            "0  0.096192  0.970117  0.045796        0.9857\n",
            "1  0.035676  0.988967  0.035143        0.9892\n",
            "2  0.022960  0.993050  0.035878        0.9888\n"
          ]
        },
        {
          "output_type": "stream",
          "name": "stderr",
          "text": [
            "/usr/local/lib/python3.10/dist-packages/keras/src/engine/training.py:3103: UserWarning: You are saving your model as an HDF5 file via `model.save()`. This file format is considered legacy. We recommend using instead the native Keras format, e.g. `model.save('my_model.keras')`.\n",
            "  saving_api.save_model(\n"
          ]
        }
      ]
    }
  ]
}